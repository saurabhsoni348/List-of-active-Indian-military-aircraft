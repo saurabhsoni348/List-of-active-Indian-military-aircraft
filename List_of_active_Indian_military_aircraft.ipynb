{
  "cells": [
    {
      "cell_type": "markdown",
      "metadata": {
        "id": "view-in-github",
        "colab_type": "text"
      },
      "source": [
        "<a href=\"https://colab.research.google.com/github/saurabhsoni348/List-of-active-Indian-military-aircraft/blob/main/List_of_active_Indian_military_aircraft.ipynb\" target=\"_parent\"><img src=\"https://colab.research.google.com/assets/colab-badge.svg\" alt=\"Open In Colab\"/></a>"
      ]
    },
    {
      "cell_type": "code",
      "execution_count": 1,
      "id": "0b9cd5f9-7a5c-4e6f-8811-28563c708e32",
      "metadata": {
        "id": "0b9cd5f9-7a5c-4e6f-8811-28563c708e32"
      },
      "outputs": [],
      "source": [
        "import requests\n",
        "from bs4 import BeautifulSoup\n",
        "import pandas as pd"
      ]
    },
    {
      "cell_type": "code",
      "execution_count": 2,
      "id": "c894f659-4436-43b4-80d5-b429b645c67e",
      "metadata": {
        "id": "c894f659-4436-43b4-80d5-b429b645c67e"
      },
      "outputs": [],
      "source": [
        "url = \"https://en.wikipedia.org/wiki/List_of_active_Indian_military_aircraft\""
      ]
    },
    {
      "cell_type": "code",
      "execution_count": 3,
      "id": "dc5b6732-bd8b-4133-9f53-fca2a9693841",
      "metadata": {
        "id": "dc5b6732-bd8b-4133-9f53-fca2a9693841"
      },
      "outputs": [],
      "source": [
        "response = requests.get(url)\n",
        "soup = BeautifulSoup(response.content, 'html.parser')\n"
      ]
    },
    {
      "cell_type": "code",
      "execution_count": 4,
      "id": "1ae6eb81-f007-42e5-a57e-4cba00c82796",
      "metadata": {
        "id": "1ae6eb81-f007-42e5-a57e-4cba00c82796"
      },
      "outputs": [],
      "source": [
        "table = soup.find('table', {'class': 'wikitable'})\n"
      ]
    },
    {
      "cell_type": "code",
      "execution_count": 5,
      "id": "1463b0e2-391a-42df-a111-345c9626d02a",
      "metadata": {
        "id": "1463b0e2-391a-42df-a111-345c9626d02a"
      },
      "outputs": [],
      "source": [
        "headers = []\n",
        "for header in table.find_all('th'):\n",
        "    headers.append(header.text.strip())\n"
      ]
    },
    {
      "cell_type": "code",
      "execution_count": 6,
      "id": "3adbec5f-b7ab-46f6-9765-e56a6a7d56d8",
      "metadata": {
        "id": "3adbec5f-b7ab-46f6-9765-e56a6a7d56d8"
      },
      "outputs": [],
      "source": [
        "rows = []\n",
        "for row in table.find_all('tr'):\n",
        "    cells = row.find_all('td')\n",
        "    cells = [cell.text.strip() for cell in cells]\n",
        "    if cells:\n",
        "        while len(cells) < len(headers):\n",
        "            cells.append('')\n",
        "        rows.append(cells)"
      ]
    },
    {
      "cell_type": "code",
      "execution_count": 7,
      "id": "1850c926-3a32-40d5-b833-2dc8da46238c",
      "metadata": {
        "id": "1850c926-3a32-40d5-b833-2dc8da46238c"
      },
      "outputs": [],
      "source": [
        "df = pd.DataFrame(rows, columns=headers)\n",
        "df.to_csv('indian_military_aircraft.csv', index=False)\n"
      ]
    },
    {
      "cell_type": "code",
      "execution_count": 8,
      "id": "68a9fac9-3775-4d82-b574-c703b179a4e9",
      "metadata": {
        "colab": {
          "base_uri": "https://localhost:8080/"
        },
        "id": "68a9fac9-3775-4d82-b574-c703b179a4e9",
        "outputId": "73cd18d6-b861-4b7f-8b00-796b6ae8754b"
      },
      "outputs": [
        {
          "output_type": "stream",
          "name": "stdout",
          "text": [
            "Data has been successfully scraped and saved to 'indian_military_aircraft.csv'\n"
          ]
        }
      ],
      "source": [
        "print(\"Data has been successfully scraped and saved to 'indian_military_aircraft.csv'\")\n"
      ]
    },
    {
      "cell_type": "code",
      "execution_count": 9,
      "id": "ec0eec72-b58c-46de-901e-4156c10a9f8b",
      "metadata": {
        "id": "ec0eec72-b58c-46de-901e-4156c10a9f8b"
      },
      "outputs": [],
      "source": [
        "df.to_csv('indian_military_aircraft.csv', index=False)"
      ]
    },
    {
      "cell_type": "code",
      "execution_count": 10,
      "id": "e2b28e2f-dd5a-4174-860a-33c9930070a3",
      "metadata": {
        "id": "e2b28e2f-dd5a-4174-860a-33c9930070a3"
      },
      "outputs": [],
      "source": [
        "df.to_csv('indian_military_aircraft.csv')"
      ]
    },
    {
      "cell_type": "code",
      "execution_count": 10,
      "id": "8df1399f-1f71-4bed-8046-5f686ff29058",
      "metadata": {
        "id": "8df1399f-1f71-4bed-8046-5f686ff29058"
      },
      "outputs": [],
      "source": []
    }
  ],
  "metadata": {
    "kernelspec": {
      "display_name": "Python 3 (ipykernel)",
      "language": "python",
      "name": "python3"
    },
    "language_info": {
      "codemirror_mode": {
        "name": "ipython",
        "version": 3
      },
      "file_extension": ".py",
      "mimetype": "text/x-python",
      "name": "python",
      "nbconvert_exporter": "python",
      "pygments_lexer": "ipython3",
      "version": "3.12.4"
    },
    "colab": {
      "provenance": [],
      "include_colab_link": true
    }
  },
  "nbformat": 4,
  "nbformat_minor": 5
}